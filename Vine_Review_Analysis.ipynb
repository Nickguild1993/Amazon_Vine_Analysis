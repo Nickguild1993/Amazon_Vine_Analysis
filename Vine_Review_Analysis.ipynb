{
  "nbformat": 4,
  "nbformat_minor": 0,
  "metadata": {
    "colab": {
      "name": "Vine_review_analysis.ipynb",
      "provenance": []
    },
    "kernelspec": {
      "name": "python3",
      "display_name": "Python 3"
    }
  },
  "cells": [
    {
      "cell_type": "code",
      "metadata": {
        "id": "OyLccfkB1adm",
        "outputId": "984ac1df-c23f-4678-df3b-c24bc59977db",
        "colab": {
          "base_uri": "https://localhost:8080/"
        }
      },
      "source": [
        "import os\n",
        "# Find the latest version of spark 2.0  from http://www-us.apache.org/dist/spark/ and enter as the spark version\n",
        "# For example:\n",
        "# spark_version = 'spark-3.0.0'\n",
        "spark_version = 'spark-3.0.1'\n",
        "os.environ['SPARK_VERSION']=spark_version\n",
        "\n",
        "# Install Spark and Java\n",
        "!apt-get update\n",
        "!apt-get install openjdk-11-jdk-headless -qq > /dev/null\n",
        "!wget -q http://www-us.apache.org/dist/spark/$SPARK_VERSION/$SPARK_VERSION-bin-hadoop2.7.tgz\n",
        "!tar xf $SPARK_VERSION-bin-hadoop2.7.tgz\n",
        "!pip install -q findspark\n",
        "\n",
        "# Set Environment Variables\n",
        "import os\n",
        "os.environ[\"JAVA_HOME\"] = \"/usr/lib/jvm/java-11-openjdk-amd64\"\n",
        "os.environ[\"SPARK_HOME\"] = f\"/content/{spark_version}-bin-hadoop2.7\"\n",
        "\n",
        "# Start a SparkSession\n",
        "import findspark\n",
        "findspark.init()"
      ],
      "execution_count": 1,
      "outputs": [
        {
          "output_type": "stream",
          "text": [
            "Ign:1 https://developer.download.nvidia.com/compute/cuda/repos/ubuntu1804/x86_64  InRelease\n",
            "Get:2 https://cloud.r-project.org/bin/linux/ubuntu bionic-cran40/ InRelease [3,626 B]\n",
            "Hit:3 http://archive.ubuntu.com/ubuntu bionic InRelease\n",
            "Get:4 http://security.ubuntu.com/ubuntu bionic-security InRelease [88.7 kB]\n",
            "Get:5 http://ppa.launchpad.net/c2d4u.team/c2d4u4.0+/ubuntu bionic InRelease [15.9 kB]\n",
            "Ign:6 https://developer.download.nvidia.com/compute/machine-learning/repos/ubuntu1804/x86_64  InRelease\n",
            "Get:7 https://developer.download.nvidia.com/compute/cuda/repos/ubuntu1804/x86_64  Release [697 B]\n",
            "Get:8 https://developer.download.nvidia.com/compute/machine-learning/repos/ubuntu1804/x86_64  Release [564 B]\n",
            "Get:9 https://developer.download.nvidia.com/compute/cuda/repos/ubuntu1804/x86_64  Release.gpg [836 B]\n",
            "Get:10 https://developer.download.nvidia.com/compute/machine-learning/repos/ubuntu1804/x86_64  Release.gpg [833 B]\n",
            "Get:11 http://archive.ubuntu.com/ubuntu bionic-updates InRelease [88.7 kB]\n",
            "Get:12 http://ppa.launchpad.net/graphics-drivers/ppa/ubuntu bionic InRelease [21.3 kB]\n",
            "Get:13 http://archive.ubuntu.com/ubuntu bionic-backports InRelease [74.6 kB]\n",
            "Ign:14 https://developer.download.nvidia.com/compute/cuda/repos/ubuntu1804/x86_64  Packages\n",
            "Get:14 https://developer.download.nvidia.com/compute/cuda/repos/ubuntu1804/x86_64  Packages [407 kB]\n",
            "Get:15 https://developer.download.nvidia.com/compute/machine-learning/repos/ubuntu1804/x86_64  Packages [58.5 kB]\n",
            "Get:16 http://ppa.launchpad.net/c2d4u.team/c2d4u4.0+/ubuntu bionic/main Sources [1,688 kB]\n",
            "Get:17 http://security.ubuntu.com/ubuntu bionic-security/main amd64 Packages [1,781 kB]\n",
            "Get:18 http://archive.ubuntu.com/ubuntu bionic-updates/multiverse amd64 Packages [46.3 kB]\n",
            "Get:19 http://archive.ubuntu.com/ubuntu bionic-updates/restricted amd64 Packages [247 kB]\n",
            "Get:20 http://archive.ubuntu.com/ubuntu bionic-updates/main amd64 Packages [2,198 kB]\n",
            "Get:21 http://security.ubuntu.com/ubuntu bionic-security/restricted amd64 Packages [222 kB]\n",
            "Get:22 http://security.ubuntu.com/ubuntu bionic-security/multiverse amd64 Packages [15.8 kB]\n",
            "Get:23 http://security.ubuntu.com/ubuntu bionic-security/universe amd64 Packages [1,365 kB]\n",
            "Get:24 http://ppa.launchpad.net/c2d4u.team/c2d4u4.0+/ubuntu bionic/main amd64 Packages [864 kB]\n",
            "Get:25 http://archive.ubuntu.com/ubuntu bionic-updates/universe amd64 Packages [2,129 kB]\n",
            "Get:26 http://ppa.launchpad.net/graphics-drivers/ppa/ubuntu bionic/main amd64 Packages [46.6 kB]\n",
            "Fetched 11.4 MB in 3s (3,641 kB/s)\n",
            "Reading package lists... Done\n"
          ],
          "name": "stdout"
        }
      ]
    },
    {
      "cell_type": "code",
      "metadata": {
        "id": "h_6QlqIN3bYX",
        "outputId": "4cd25fa3-700e-4a9f-9053-375f1db8e3f6",
        "colab": {
          "base_uri": "https://localhost:8080/"
        }
      },
      "source": [
        "# Download the Postgres driver that will allow Spark to interact with Postgres.\n",
        "!wget https://jdbc.postgresql.org/download/postgresql-42.2.16.jar"
      ],
      "execution_count": 2,
      "outputs": [
        {
          "output_type": "stream",
          "text": [
            "--2020-11-16 05:35:06--  https://jdbc.postgresql.org/download/postgresql-42.2.16.jar\n",
            "Resolving jdbc.postgresql.org (jdbc.postgresql.org)... 72.32.157.228, 2001:4800:3e1:1::228\n",
            "Connecting to jdbc.postgresql.org (jdbc.postgresql.org)|72.32.157.228|:443... connected.\n",
            "HTTP request sent, awaiting response... 200 OK\n",
            "Length: 1002883 (979K) [application/java-archive]\n",
            "Saving to: ‘postgresql-42.2.16.jar’\n",
            "\n",
            "postgresql-42.2.16. 100%[===================>] 979.38K  5.51MB/s    in 0.2s    \n",
            "\n",
            "2020-11-16 05:35:06 (5.51 MB/s) - ‘postgresql-42.2.16.jar’ saved [1002883/1002883]\n",
            "\n"
          ],
          "name": "stdout"
        }
      ]
    },
    {
      "cell_type": "code",
      "metadata": {
        "id": "OX8Az_-B3bl7"
      },
      "source": [
        "from pyspark.sql import SparkSession\n",
        "spark = SparkSession.builder.appName(\"BigData-Challenge\").config(\"spark.driver.extraClassPath\",\"/content/postgresql-42.2.16.jar\").getOrCreate()"
      ],
      "execution_count": 3,
      "outputs": []
    },
    {
      "cell_type": "code",
      "metadata": {
        "id": "KmC1EciN3bav"
      },
      "source": [
        "import pyspark.sql.functions as F\n",
        "\n",
        "# load in a sql function to access the columns \n",
        "from pyspark.sql.functions import col"
      ],
      "execution_count": 4,
      "outputs": []
    },
    {
      "cell_type": "code",
      "metadata": {
        "id": "fpCsIy2LBshT"
      },
      "source": [
        "# DELIVERABLE 2!!!!  Determine Bias of Vine Reviews"
      ],
      "execution_count": null,
      "outputs": []
    },
    {
      "cell_type": "code",
      "metadata": {
        "id": "x7hYku5sjaJs"
      },
      "source": [
        "# Configure settings for RDS\n",
        "mode = \"append\"\n",
        "jdbc_url=\"jdbc:postgresql://dataviz-db.clviqkfcmhow.us-east-2.rds.amazonaws.com:5432/challenge-db\"\n",
        "config = {\"user\":\"postgres\", \n",
        "          \"password\": \"01eellv01\", \n",
        "          \"driver\":\"org.postgresql.Driver\"}"
      ],
      "execution_count": 7,
      "outputs": []
    },
    {
      "cell_type": "code",
      "metadata": {
        "id": "gv_Tt_GnQK3S",
        "outputId": "8845e147-9da6-4718-afd4-642787bdf24d",
        "colab": {
          "base_uri": "https://localhost:8080/"
        }
      },
      "source": [
        "cleaned_vine_info = spark.read.jdbc(url= jdbc_url, table= \"vine_table\", properties=config)\n",
        "cleaned_vine_info.show()"
      ],
      "execution_count": 8,
      "outputs": [
        {
          "output_type": "stream",
          "text": [
            "+--------------+-----------+-------------+-----------+----+-----------------+\n",
            "|     review_id|star_rating|helpful_votes|total_votes|vine|verified_purchase|\n",
            "+--------------+-----------+-------------+-----------+----+-----------------+\n",
            "| RTIS3L2M1F5SM|          5|            0|          0|   N|                Y|\n",
            "| R1ZV7R40OLHKD|          5|            0|          0|   N|                Y|\n",
            "|R3BH071QLH8QMC|          1|            0|          1|   N|                Y|\n",
            "|R127K9NTSXA2YH|          3|            0|          0|   N|                Y|\n",
            "|R32ZWUXDJPW27Q|          4|            0|          0|   N|                Y|\n",
            "|R3AQQ4YUKJWBA6|          1|            0|          0|   N|                Y|\n",
            "|R2F0POU5K6F73F|          5|            0|          0|   N|                Y|\n",
            "|R3VNR804HYSMR6|          5|            0|          0|   N|                Y|\n",
            "| R3GZTM72WA2QH|          5|            0|          0|   N|                Y|\n",
            "| RNQOY62705W1K|          4|            0|          0|   N|                Y|\n",
            "|R1VTIA3JTYBY02|          5|            0|          0|   N|                N|\n",
            "|R29DOU8791QZL8|          1|            0|          0|   N|                Y|\n",
            "|R15DUT1VIJ9RJZ|          2|            0|          0|   N|                Y|\n",
            "|R3IMF2MQ3OU9ZM|          4|            0|          0|   N|                Y|\n",
            "|R23H79DHOZTYAU|          1|            1|          1|   N|                Y|\n",
            "| RIV24EQAIXA4O|          5|            0|          0|   N|                Y|\n",
            "|R3UCNGYDVN24YB|          5|            0|          0|   N|                Y|\n",
            "| RUL4H4XTTN2DY|          5|            0|          0|   N|                Y|\n",
            "|R20JF7Z4DHTNX5|          5|            0|          0|   N|                Y|\n",
            "|R2T1AJ5MFI2260|          4|            0|          0|   N|                Y|\n",
            "+--------------+-----------+-------------+-----------+----+-----------------+\n",
            "only showing top 20 rows\n",
            "\n"
          ],
          "name": "stdout"
        }
      ]
    },
    {
      "cell_type": "code",
      "metadata": {
        "id": "I3iaYTq2CKJa",
        "outputId": "447a7e87-154f-49d0-f4dd-b8bc9600ec74",
        "colab": {
          "base_uri": "https://localhost:8080/"
        }
      },
      "source": [
        "# step 1) vine_df() total_votes >= 20 \n",
        "cleaned_vine_df = cleaned_vine_info.filter(col(\"total_votes\") >= 20)\n",
        "cleaned_vine_df.show()"
      ],
      "execution_count": 9,
      "outputs": [
        {
          "output_type": "stream",
          "text": [
            "+--------------+-----------+-------------+-----------+----+-----------------+\n",
            "|     review_id|star_rating|helpful_votes|total_votes|vine|verified_purchase|\n",
            "+--------------+-----------+-------------+-----------+----+-----------------+\n",
            "| R4PKAZRQJJX14|          1|           21|         34|   N|                N|\n",
            "|R2CI0Y288CC7E2|          1|           21|         35|   N|                Y|\n",
            "|R2M1TGWAI7ED73|          5|          110|        142|   N|                N|\n",
            "| REC11EG59BRCQ|          1|           13|         90|   N|                N|\n",
            "|R2LKLC82XA1LIM|          1|           18|         35|   N|                N|\n",
            "|R16UMKX9GH7UVH|          5|           26|         28|   N|                N|\n",
            "|R18DZ5ZM2YB4W7|          1|            8|        145|   N|                N|\n",
            "|R127WEQY2FM1T3|          1|          147|        175|   N|                Y|\n",
            "|R3EZ0EPYLDA34S|          1|           14|         31|   N|                Y|\n",
            "| RK5JE7SGNTL35|          3|           19|         55|   N|                N|\n",
            "|R2FJ94555FZH32|          2|           55|         60|   N|                N|\n",
            "|R1U3AR67RE273L|          1|           51|         65|   N|                Y|\n",
            "| RMPURCYI3XLUI|          2|           16|         21|   N|                N|\n",
            "|R2LYE40FGXKSVQ|          5|           35|         47|   N|                N|\n",
            "|  R1M23ZPDFLAT|          1|            8|         30|   N|                N|\n",
            "| RGMHVTZ2SPMUV|          5|           35|         50|   N|                N|\n",
            "| RY29AA25FQN67|          5|          237|        267|   N|                N|\n",
            "|R3PZOXA5X1U8KW|          4|           31|         36|   N|                N|\n",
            "|R3MF9GOQGPDFLK|          1|            6|         31|   N|                N|\n",
            "| RL1RKGD6Y1M21|          5|           32|         40|   N|                Y|\n",
            "+--------------+-----------+-------------+-----------+----+-----------------+\n",
            "only showing top 20 rows\n",
            "\n"
          ],
          "name": "stdout"
        }
      ]
    },
    {
      "cell_type": "code",
      "metadata": {
        "id": "RwPJMuFp_zwM"
      },
      "source": [
        "# Import struct fields that we can use\n",
        "from pyspark.sql.types import StructField, StringType, IntegerType, StructType"
      ],
      "execution_count": 10,
      "outputs": []
    },
    {
      "cell_type": "code",
      "metadata": {
        "id": "7juHHpqK-N0i"
      },
      "source": [
        "# change the strings to ints... helpful_votes,\n",
        "cleaned_vine_df = cleaned_vine_df.withColumn(\"helpful_votes\", col(\"helpful_votes\").cast(\"Integer\"))\n"
      ],
      "execution_count": null,
      "outputs": []
    },
    {
      "cell_type": "code",
      "metadata": {
        "id": "BTFWrgc0aIE1",
        "outputId": "4313b5eb-3e3b-4be4-feb6-146569377809",
        "colab": {
          "base_uri": "https://localhost:8080/"
        }
      },
      "source": [
        "\n",
        "vote_vine_info = cleaned_vine_df.withColumn(\"div_votes\", cleaned_vine_df[\"helpful_votes\"]/cleaned_vine_df[\"total_votes\"])\n",
        "vote_vine_info.show()"
      ],
      "execution_count": 11,
      "outputs": [
        {
          "output_type": "stream",
          "text": [
            "+--------------+-----------+-------------+-----------+----+-----------------+-------------------+\n",
            "|     review_id|star_rating|helpful_votes|total_votes|vine|verified_purchase|          div_votes|\n",
            "+--------------+-----------+-------------+-----------+----+-----------------+-------------------+\n",
            "| R4PKAZRQJJX14|          1|           21|         34|   N|                N| 0.6176470588235294|\n",
            "|R2CI0Y288CC7E2|          1|           21|         35|   N|                Y|                0.6|\n",
            "|R2M1TGWAI7ED73|          5|          110|        142|   N|                N| 0.7746478873239436|\n",
            "| REC11EG59BRCQ|          1|           13|         90|   N|                N|0.14444444444444443|\n",
            "|R2LKLC82XA1LIM|          1|           18|         35|   N|                N| 0.5142857142857142|\n",
            "|R16UMKX9GH7UVH|          5|           26|         28|   N|                N| 0.9285714285714286|\n",
            "|R18DZ5ZM2YB4W7|          1|            8|        145|   N|                N|0.05517241379310345|\n",
            "|R127WEQY2FM1T3|          1|          147|        175|   N|                Y|               0.84|\n",
            "|R3EZ0EPYLDA34S|          1|           14|         31|   N|                Y|0.45161290322580644|\n",
            "| RK5JE7SGNTL35|          3|           19|         55|   N|                N|0.34545454545454546|\n",
            "|R2FJ94555FZH32|          2|           55|         60|   N|                N| 0.9166666666666666|\n",
            "|R1U3AR67RE273L|          1|           51|         65|   N|                Y| 0.7846153846153846|\n",
            "| RMPURCYI3XLUI|          2|           16|         21|   N|                N| 0.7619047619047619|\n",
            "|R2LYE40FGXKSVQ|          5|           35|         47|   N|                N| 0.7446808510638298|\n",
            "|  R1M23ZPDFLAT|          1|            8|         30|   N|                N|0.26666666666666666|\n",
            "| RGMHVTZ2SPMUV|          5|           35|         50|   N|                N|                0.7|\n",
            "| RY29AA25FQN67|          5|          237|        267|   N|                N| 0.8876404494382022|\n",
            "|R3PZOXA5X1U8KW|          4|           31|         36|   N|                N| 0.8611111111111112|\n",
            "|R3MF9GOQGPDFLK|          1|            6|         31|   N|                N| 0.1935483870967742|\n",
            "| RL1RKGD6Y1M21|          5|           32|         40|   N|                Y|                0.8|\n",
            "+--------------+-----------+-------------+-----------+----+-----------------+-------------------+\n",
            "only showing top 20 rows\n",
            "\n"
          ],
          "name": "stdout"
        }
      ]
    },
    {
      "cell_type": "code",
      "metadata": {
        "id": "WU8wr5r-a-Ai",
        "outputId": "e6a163b1-8af3-42ae-9b23-568796f2cd97",
        "colab": {
          "base_uri": "https://localhost:8080/"
        }
      },
      "source": [
        "# step 2) Filter the new DataFrame or table created in Step 1 and create a new DataFrame or table to retrieve all \n",
        "# the rows where the number of helpful_votes divided by total_votes is equal to or greater than 50%.\n",
        "\n",
        "vote_vine_df =vote_vine_info.filter(col(\"div_votes\") >= 0.5)\n",
        "vote_vine_df.show()"
      ],
      "execution_count": 12,
      "outputs": [
        {
          "output_type": "stream",
          "text": [
            "+--------------+-----------+-------------+-----------+----+-----------------+------------------+\n",
            "|     review_id|star_rating|helpful_votes|total_votes|vine|verified_purchase|         div_votes|\n",
            "+--------------+-----------+-------------+-----------+----+-----------------+------------------+\n",
            "| R4PKAZRQJJX14|          1|           21|         34|   N|                N|0.6176470588235294|\n",
            "|R2CI0Y288CC7E2|          1|           21|         35|   N|                Y|               0.6|\n",
            "|R2M1TGWAI7ED73|          5|          110|        142|   N|                N|0.7746478873239436|\n",
            "|R2LKLC82XA1LIM|          1|           18|         35|   N|                N|0.5142857142857142|\n",
            "|R16UMKX9GH7UVH|          5|           26|         28|   N|                N|0.9285714285714286|\n",
            "|R127WEQY2FM1T3|          1|          147|        175|   N|                Y|              0.84|\n",
            "|R2FJ94555FZH32|          2|           55|         60|   N|                N|0.9166666666666666|\n",
            "|R1U3AR67RE273L|          1|           51|         65|   N|                Y|0.7846153846153846|\n",
            "| RMPURCYI3XLUI|          2|           16|         21|   N|                N|0.7619047619047619|\n",
            "|R2LYE40FGXKSVQ|          5|           35|         47|   N|                N|0.7446808510638298|\n",
            "| RGMHVTZ2SPMUV|          5|           35|         50|   N|                N|               0.7|\n",
            "| RY29AA25FQN67|          5|          237|        267|   N|                N|0.8876404494382022|\n",
            "|R3PZOXA5X1U8KW|          4|           31|         36|   N|                N|0.8611111111111112|\n",
            "| RL1RKGD6Y1M21|          5|           32|         40|   N|                Y|               0.8|\n",
            "|R3P9WLRSNL2NXC|          2|           75|         93|   N|                Y|0.8064516129032258|\n",
            "|R2OKT3F7F0R7IN|          5|           27|         38|   N|                N|0.7105263157894737|\n",
            "|R3U1QPX51VOWNS|          1|           20|         37|   N|                N|0.5405405405405406|\n",
            "| RZ963U6PEWGUR|          1|           29|         44|   N|                Y|0.6590909090909091|\n",
            "|R1QDW0PVKNK8SI|          1|           11|         20|   N|                N|              0.55|\n",
            "|R156QSMUZ7ZI31|          5|           35|         39|   N|                Y|0.8974358974358975|\n",
            "+--------------+-----------+-------------+-----------+----+-----------------+------------------+\n",
            "only showing top 20 rows\n",
            "\n"
          ],
          "name": "stdout"
        }
      ]
    },
    {
      "cell_type": "code",
      "metadata": {
        "id": "AaFacAhVbjoU",
        "outputId": "752debb7-a782-457c-a75d-998b2e2cf192",
        "colab": {
          "base_uri": "https://localhost:8080/"
        }
      },
      "source": [
        "# Step 3) Filter the DataFrame or table created in Step 2, and create a new DataFrame or table that retrieves all the rows \n",
        "# where a review was written as part of the Vine program (paid), vine == 'Y'.\n",
        "\n",
        "written_review_df = vote_vine_df.filter(col(\"vine\") == \"Y\")\n",
        "written_review_df.show()"
      ],
      "execution_count": 13,
      "outputs": [
        {
          "output_type": "stream",
          "text": [
            "+--------------+-----------+-------------+-----------+----+-----------------+------------------+\n",
            "|     review_id|star_rating|helpful_votes|total_votes|vine|verified_purchase|         div_votes|\n",
            "+--------------+-----------+-------------+-----------+----+-----------------+------------------+\n",
            "|R1OWK33OPI45KT|          5|           55|         58|   Y|                N|0.9482758620689655|\n",
            "|R2UP7VTED8O425|          5|           35|         41|   Y|                N|0.8536585365853658|\n",
            "|R3KKUSGFZWSUIY|          5|           56|         63|   Y|                N|0.8888888888888888|\n",
            "|R10FO5UKKVZBK2|          3|           23|         23|   Y|                N|               1.0|\n",
            "|R3N4QAXTQCA1ED|          5|           18|         20|   Y|                N|               0.9|\n",
            "| ROXZOMHBY8Y9S|          4|           21|         23|   Y|                N|0.9130434782608695|\n",
            "|R3EPHK0JGQGE91|          5|           21|         28|   Y|                N|              0.75|\n",
            "| RCP3KRO47S0GG|          4|           51|         58|   Y|                N|0.8793103448275862|\n",
            "|R3JT907UUA1WUI|          4|           85|        103|   Y|                N|0.8252427184466019|\n",
            "| RY0555ILXIYXW|          5|           38|         50|   Y|                N|              0.76|\n",
            "| RM4KSGEOR7MU1|          5|           19|         24|   Y|                N|0.7916666666666666|\n",
            "|R24PS9N276OXF4|          5|          241|        262|   Y|                N|0.9198473282442748|\n",
            "|R3R0F8ETAGTIOT|          5|           14|         20|   Y|                N|               0.7|\n",
            "|R1CUA6APLIFSG9|          5|           39|         49|   Y|                N|0.7959183673469388|\n",
            "|R3T4LTJ189G0LT|          4|           37|         45|   Y|                N|0.8222222222222222|\n",
            "| R4LQC6M9AVXAY|          5|           69|         75|   Y|                N|              0.92|\n",
            "|R1L8N6VFY5KDSU|          5|           23|         26|   Y|                N|0.8846153846153846|\n",
            "| RG7VRMYLEXD23|          4|           22|         26|   Y|                N|0.8461538461538461|\n",
            "|R369DSVA6AH6SB|          5|           16|         21|   Y|                N|0.7619047619047619|\n",
            "|R1IN4WPVLZB86G|          5|           34|         37|   Y|                N| 0.918918918918919|\n",
            "+--------------+-----------+-------------+-----------+----+-----------------+------------------+\n",
            "only showing top 20 rows\n",
            "\n"
          ],
          "name": "stdout"
        }
      ]
    },
    {
      "cell_type": "code",
      "metadata": {
        "id": "JU68VVhyb7od",
        "outputId": "8bcf537d-7b7d-4780-b407-2007d2c619cf",
        "colab": {
          "base_uri": "https://localhost:8080/"
        }
      },
      "source": [
        "# Step 4) Same as step 3, but we want a (seperate?) dataframe for all the vines WITHOUT a written review.\n",
        "no_written_review_df = vote_vine_df.filter(col(\"vine\")== \"N\")\n",
        "no_written_review_df.show()"
      ],
      "execution_count": 14,
      "outputs": [
        {
          "output_type": "stream",
          "text": [
            "+--------------+-----------+-------------+-----------+----+-----------------+------------------+\n",
            "|     review_id|star_rating|helpful_votes|total_votes|vine|verified_purchase|         div_votes|\n",
            "+--------------+-----------+-------------+-----------+----+-----------------+------------------+\n",
            "| R4PKAZRQJJX14|          1|           21|         34|   N|                N|0.6176470588235294|\n",
            "|R2CI0Y288CC7E2|          1|           21|         35|   N|                Y|               0.6|\n",
            "|R2M1TGWAI7ED73|          5|          110|        142|   N|                N|0.7746478873239436|\n",
            "|R2LKLC82XA1LIM|          1|           18|         35|   N|                N|0.5142857142857142|\n",
            "|R16UMKX9GH7UVH|          5|           26|         28|   N|                N|0.9285714285714286|\n",
            "|R127WEQY2FM1T3|          1|          147|        175|   N|                Y|              0.84|\n",
            "|R2FJ94555FZH32|          2|           55|         60|   N|                N|0.9166666666666666|\n",
            "|R1U3AR67RE273L|          1|           51|         65|   N|                Y|0.7846153846153846|\n",
            "| RMPURCYI3XLUI|          2|           16|         21|   N|                N|0.7619047619047619|\n",
            "|R2LYE40FGXKSVQ|          5|           35|         47|   N|                N|0.7446808510638298|\n",
            "| RGMHVTZ2SPMUV|          5|           35|         50|   N|                N|               0.7|\n",
            "| RY29AA25FQN67|          5|          237|        267|   N|                N|0.8876404494382022|\n",
            "|R3PZOXA5X1U8KW|          4|           31|         36|   N|                N|0.8611111111111112|\n",
            "| RL1RKGD6Y1M21|          5|           32|         40|   N|                Y|               0.8|\n",
            "|R3P9WLRSNL2NXC|          2|           75|         93|   N|                Y|0.8064516129032258|\n",
            "|R2OKT3F7F0R7IN|          5|           27|         38|   N|                N|0.7105263157894737|\n",
            "|R3U1QPX51VOWNS|          1|           20|         37|   N|                N|0.5405405405405406|\n",
            "| RZ963U6PEWGUR|          1|           29|         44|   N|                Y|0.6590909090909091|\n",
            "|R1QDW0PVKNK8SI|          1|           11|         20|   N|                N|              0.55|\n",
            "|R156QSMUZ7ZI31|          5|           35|         39|   N|                Y|0.8974358974358975|\n",
            "+--------------+-----------+-------------+-----------+----+-----------------+------------------+\n",
            "only showing top 20 rows\n",
            "\n"
          ],
          "name": "stdout"
        }
      ]
    },
    {
      "cell_type": "code",
      "metadata": {
        "id": "Ad9aAE-PcZJq"
      },
      "source": [
        "# Step 5) Determine the total number of reviews, \n",
        "# the number of 5-star reviews, \n",
        "# and the percentage of 5-star reviews for the two types of review (paid vs unpaid)."
      ],
      "execution_count": null,
      "outputs": []
    },
    {
      "cell_type": "code",
      "metadata": {
        "id": "b3H0xmLucZmZ",
        "outputId": "608d8408-c985-4a32-de4c-45e46072fe58",
        "colab": {
          "base_uri": "https://localhost:8080/"
        }
      },
      "source": [
        "# Step 5 work part 1 | total number of reviews (40,565)\n",
        "vote_vine_df.count()"
      ],
      "execution_count": 15,
      "outputs": [
        {
          "output_type": "execute_result",
          "data": {
            "text/plain": [
              "40565"
            ]
          },
          "metadata": {
            "tags": []
          },
          "execution_count": 15
        }
      ]
    },
    {
      "cell_type": "code",
      "metadata": {
        "id": "IB2uVw6Hd2-V",
        "outputId": "2b79aaf5-a2a7-4bb1-c877-56fa2ea6cba7",
        "colab": {
          "base_uri": "https://localhost:8080/"
        }
      },
      "source": [
        "# Step 5 work part 2 | number of 5 star reviews (15,711)\n",
        "five_star_df = vote_vine_df.filter(col(\"star_rating\") == 5)\n",
        "five_star_df.count()\n"
      ],
      "execution_count": 16,
      "outputs": [
        {
          "output_type": "execute_result",
          "data": {
            "text/plain": [
              "15711"
            ]
          },
          "metadata": {
            "tags": []
          },
          "execution_count": 16
        }
      ]
    },
    {
      "cell_type": "code",
      "metadata": {
        "id": "l8YBCKI4cZAU",
        "outputId": "9f6405ca-3b46-4b4a-d68a-419c58e71a47",
        "colab": {
          "base_uri": "https://localhost:8080/"
        }
      },
      "source": [
        "# Step 5 work part 3 | **PAID** |  written_review_df % of 5 star reviews | 94 total reviews | 48 5 star reviews  | 51% (5) star reviews....\n",
        "# written_review_df.count()\n",
        "five_star_written_df = written_review_df.filter(col(\"star_rating\") == 5)\n",
        "five_star_written_df.count()"
      ],
      "execution_count": 18,
      "outputs": [
        {
          "output_type": "execute_result",
          "data": {
            "text/plain": [
              "48"
            ]
          },
          "metadata": {
            "tags": []
          },
          "execution_count": 18
        }
      ]
    },
    {
      "cell_type": "code",
      "metadata": {
        "id": "z9CwlonvfcxA",
        "outputId": "8e0dc2e6-a823-478f-eb18-00de01c86778",
        "colab": {
          "base_uri": "https://localhost:8080/"
        }
      },
      "source": [
        "# Step 5 work park 4 | **UNPAID** | no_written_review_df 5 star reviews | 40,471 (non-paid) total reviews | 15,663 (5) star reviews | 38.7% (5) star\n",
        "\n",
        "# no_written_review_df.count()\n",
        "\n",
        "unpaid_five_star_df = no_written_review_df.filter(col(\"star_rating\") == 5)\n",
        "unpaid_five_star_df.count()"
      ],
      "execution_count": 20,
      "outputs": [
        {
          "output_type": "execute_result",
          "data": {
            "text/plain": [
              "40471"
            ]
          },
          "metadata": {
            "tags": []
          },
          "execution_count": 20
        }
      ]
    }
  ]
}